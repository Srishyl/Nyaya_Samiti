{
 "cells": [
  {
   "cell_type": "code",
   "execution_count": 6,
   "id": "5ba5a8b7",
   "metadata": {},
   "outputs": [
    {
     "name": "stdout",
     "output_type": "stream",
     "text": [
      "Config OK. Runs will be saved under: c:\\Users\\Shravya H Jain\\Downloads\\_Law_\\Nyaya_Samiti\\runs\n"
     ]
    }
   ],
   "source": [
    "import os\n",
    "from dotenv import load_dotenv\n",
    "\n",
    "load_dotenv()\n",
    "GEMINI_API_KEY = os.getenv(\"GEMINI_API_KEY\", \"\")\n",
    "assert GEMINI_API_KEY != \"\", \"Please set GEMINI_API_KEY (env var or .env).\"\n",
    "\n",
    "# If on Windows, set tesseract.exe path here:\n",
    "TESSERACT_CMD = r\"C:/Program Files/Tesseract-OCR/tesseract.exe\"\n",
    "\n",
    "OCR_LANGS = \"eng+hin\"\n",
    "RUNS_DIR = \"runs\"\n",
    "os.makedirs(RUNS_DIR, exist_ok=True)\n",
    "print(\"Config OK. Runs will be saved under:\", os.path.abspath(RUNS_DIR))\n"
   ]
  }
 ],
 "metadata": {
  "kernelspec": {
   "display_name": ".venv",
   "language": "python",
   "name": "python3"
  },
  "language_info": {
   "codemirror_mode": {
    "name": "ipython",
    "version": 3
   },
   "file_extension": ".py",
   "mimetype": "text/x-python",
   "name": "python",
   "nbconvert_exporter": "python",
   "pygments_lexer": "ipython3",
   "version": "3.11.5"
  }
 },
 "nbformat": 4,
 "nbformat_minor": 5
}
