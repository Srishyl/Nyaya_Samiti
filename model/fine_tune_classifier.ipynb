{
  "cells": [
    {
      "cell_type": "markdown",
      "metadata": {},
      "source": [
        "# Fine-tuning a Vision Transformer for Document Validation (Valid/Faked Classification)\n",
        "\n",
        "This notebook demonstrates how to fine-tune an open-source Vision Transformer (ViT) model for classifying documents as 'valid' or 'invalid/faked' based on visual features. You will need a dataset of document images labeled as 'valid' or 'faked'.\n"
      ]
    },
    {
      "cell_type": "code",
      "execution_count": 2,
      "metadata": {},
      "outputs": [
        {
          "name": "stderr",
          "output_type": "stream",
          "text": [
            "c:\\Users\\Shravya H Jain\\Downloads\\_Law_\\Nyaya_Samiti\\.venv\\Lib\\site-packages\\tqdm\\auto.py:21: TqdmWarning: IProgress not found. Please update jupyter and ipywidgets. See https://ipywidgets.readthedocs.io/en/stable/user_install.html\n",
            "  from .autonotebook import tqdm as notebook_tqdm\n"
          ]
        }
      ],
      "source": [
        "# 2. Import Libraries\n",
        "import torch\n",
        "from torch.utils.data import DataLoader, Dataset\n",
        "from torchvision import transforms\n",
        "from PIL import Image\n",
        "import os\n",
        "from sklearn.model_selection import train_test_split\n",
        "from transformers import ViTFeatureExtractor, ViTForImageClassification\n",
        "from tqdm.notebook import tqdm\n",
        "import matplotlib.pyplot as plt\n",
        "import numpy as np\n",
        "from sklearn.metrics import classification_report, confusion_matrix\n"
      ]
    },
    {
      "cell_type": "markdown",
      "metadata": {},
      "source": [
        "## 3. Dataset Preparation\n",
        "\n",
        "You need a dataset of document images, ideally organized into subfolders for each class (e.g., `dataset/valid/` and `dataset/faked/`).\n",
        "\n",
        "Example directory structure:\n",
        "```\n",
        "dataset/\n",
        "├── valid/\n",
        "│   ├── doc1.jpg\n",
        "│   ├── doc2.png\n",
        "│   └── ...\n",
        "└── faked/\n",
        "    ├── forged1.jpg\n",
        "    ├── tampered2.png\n",
        "    └── ...\n",
        "```\n",
        "\n",
        "Define your dataset path and create a custom Dataset class.\n"
      ]
    },
    {
      "cell_type": "code",
      "execution_count": null,
      "metadata": {},
      "outputs": [],
      "source": [
        "# Define your dataset root directory\n",
        "DATA_DIR = \"./custom_document_dataset\" # **Update this path to your dataset**\n",
        "NUM_CLASSES = 2 # 'valid', 'faked'\n",
        "LABELS = {\"valid\": 0, \"faked\": 1} # Map class names to integers\n",
        "ID2LABEL = {0: \"valid\", 1: \"faked\"}\n",
        "\n",
        "class DocumentDataset(Dataset):\n",
        "    def __init__(self, image_paths, labels, feature_extractor):\n",
        "        self.image_paths = image_paths\n",
        "        self.labels = labels\n",
        "        self.feature_extractor = feature_extractor\n",
        "\n",
        "    def __len__(self):\n",
        "        return len(self.image_paths)\n",
        "\n",
        "    def __getitem__(self, idx):\n",
        "        img_path = self.image_paths[idx]\n",
        "        label = self.labels[idx]\n",
        "        \n",
        "        image = Image.open(img_path).convert(\"RGB\")\n",
        "        pixel_values = self.feature_extractor(images=image, return_tensors=\"pt\").pixel_values\n",
        "        \n",
        "        return {\"pixel_values\": pixel_values.squeeze(), \"labels\": torch.tensor(label)}\n",
        "\n",
        "# Gather all image paths and labels\n",
        "all_image_paths = []\n",
        "all_labels = []\n",
        "\n",
        "for label_name, label_id in LABELS.items():\n",
        "    class_dir = os.path.join(DATA_DIR, label_name)\n",
        "    if os.path.exists(class_dir):\n",
        "        for img_name in os.listdir(class_dir):\n",
        "            if img_name.endswith((\".jpg\", \".jpeg\", \".png\")):\n",
        "                all_image_paths.append(os.path.join(class_dir, img_name))\n",
        "                all_labels.append(label_id)\n",
        "\n",
        "if not all_image_paths:\n",
        "    raise ValueError(f\"No images found in {DATA_DIR}. Please check your dataset path and structure.\")\n",
        "\n",
        "# Split dataset into training and validation sets\n",
        "train_paths, val_paths, train_labels, val_labels = train_test_split(\n",
        "    all_image_paths, all_labels, test_size=0.2, random_state=42, stratify=all_labels\n",
        ")\n",
        "\n",
        "print(f\"Found {len(train_paths)} training images and {len(val_paths)} validation images.\")\n",
        "\n",
        "# Initialize feature extractor (e.g., for ViT)\n",
        "feature_extractor = ViTFeatureExtractor.from_pretrained(\"google/vit-base-patch16-224\")\n",
        "\n",
        "train_dataset = DocumentDataset(train_paths, train_labels, feature_extractor)\n",
        "val_dataset = DocumentDataset(val_paths, val_labels, feature_extractor)\n",
        "\n",
        "# Create DataLoaders\n",
        "train_dataloader = DataLoader(train_dataset, batch_size=16, shuffle=True)\n",
        "val_dataloader = DataLoader(val_dataset, batch_size=16, shuffle=False)\n"
      ]
    },
    {
      "cell_type": "markdown",
      "metadata": {},
      "source": [
        "## 4. Load Pre-trained Vision Transformer Model\n"
      ]
    },
    {
      "cell_type": "code",
      "execution_count": null,
      "metadata": {},
      "outputs": [],
      "source": [
        "model = ViTForImageClassification.from_pretrained(\n",
        "    \"google/vit-base-patch16-224\", # You can choose other ViT models\n",
        "    num_labels=NUM_CLASSES,\n",
        "    id2label=ID2LABEL,\n",
        "    label2id=LABELS\n",
        ")\n",
        "\n",
        "# Set device\n",
        "device = torch.device(\"cuda\" if torch.cuda.is_available() else \"cpu\")\n",
        "model.to(device)\n",
        "\n",
        "print(f\"Model loaded and moved to {device}.\")\n"
      ]
    },
    {
      "cell_type": "markdown",
      "metadata": {},
      "source": [
        "## 5. Fine-tuning the Model\n"
      ]
    },
    {
      "cell_type": "code",
      "execution_count": null,
      "metadata": {},
      "outputs": [],
      "source": [
        "# Define optimizer and learning rate\n",
        "optimizer = torch.optim.AdamW(model.parameters(), lr=5e-5)\n",
        "\n",
        "# Training loop\n",
        "num_epochs = 3 # Adjust as needed\n",
        "model.train()\n",
        "\n",
        "for epoch in range(num_epochs):\n",
        "    print(f\"Epoch {epoch + 1}/{num_epochs}\")\n",
        "    total_loss = 0\n",
        "    for batch in tqdm(train_dataloader, desc=\"Training\"):\n",
        "        pixel_values = batch[\"pixel_values\"].to(device)\n",
        "        labels = batch[\"labels\"].to(device)\n",
        "\n",
        "        optimizer.zero_grad()\n",
        "        outputs = model(pixel_values=pixel_values, labels=labels)\n",
        "        loss = outputs.loss\n",
        "        total_loss += loss.item()\n",
        "        loss.backward()\n",
        "        optimizer.step()\n",
        "\n",
        "    avg_train_loss = total_loss / len(train_dataloader)\n",
        "    print(f\"Average training loss: {avg_train_loss:.4f}\")\n",
        "\n",
        "print(\"Fine-tuning complete!\")\n"
      ]
    },
    {
      "cell_type": "markdown",
      "metadata": {},
      "source": [
        "## 6. Evaluation\n"
      ]
    },
    {
      "cell_type": "code",
      "execution_count": null,
      "metadata": {},
      "outputs": [],
      "source": [
        "model.eval()\n",
        "all_preds = []\n",
        "all_labels = []\n",
        "\n",
        "with torch.no_grad():\n",
        "    for batch in tqdm(val_dataloader, desc=\"Evaluating\"):\n",
        "        pixel_values = batch[\"pixel_values\"].to(device)\n",
        "        labels = batch[\"labels\"].to(device)\n",
        "\n",
        "        outputs = model(pixel_values=pixel_values)\n",
        "        logits = outputs.logits\n",
        "        predictions = torch.argmax(logits, dim=-1)\n",
        "        \n",
        "        all_preds.extend(predictions.cpu().numpy())\n",
        "        all_labels.extend(labels.cpu().numpy())\n",
        "\n",
        "print(\"\\nClassification Report:\")\n",
        "print(classification_report(all_labels, all_preds, target_names=list(LABELS.keys())))\n",
        "\n",
        "print(\"\\nConfusion Matrix:\")\n",
        "print(confusion_matrix(all_labels, all_preds))\n"
      ]
    },
    {
      "cell_type": "markdown",
      "metadata": {},
      "source": [
        "## 7. Save the Fine-tuned Model\n"
      ]
    },
    {
      "cell_type": "code",
      "execution_count": null,
      "metadata": {},
      "outputs": [],
      "source": [
        "SAVE_DIR = \"./fine_tuned_vit_classifier\" # Directory to save the model\n",
        "os.makedirs(SAVE_DIR, exist_ok=True)\n",
        "\n",
        "model.save_pretrained(SAVE_DIR)\n",
        "feature_extractor.save_pretrained(SAVE_DIR)\n",
        "\n",
        "print(f\"Fine-tuned model and feature extractor saved to {SAVE_DIR}\")\n",
        "\n",
        "# To load the model later:\n",
        "# loaded_feature_extractor = ViTFeatureExtractor.from_pretrained(SAVE_DIR)\n",
        "# loaded_model = ViTForImageClassification.from_pretrained(SAVE_DIR)\n"
      ]
    },
    {
      "cell_type": "markdown",
      "metadata": {},
      "source": [
        "## Next Steps:\n",
        "\n",
        "1.  **Prepare your dataset:** Create a directory structure as described in Section 3 with 'valid' and 'faked' document images.\n",
        "2.  **Update `DATA_DIR`:** Modify the `DATA_DIR` variable in Section 3 to point to your dataset.\n",
        "3.  **Run all cells:** Execute the notebook cells sequentially.\n",
        "4.  **Integrate:** Once you have a fine-tuned model, you can integrate it into your Streamlit `app.py` to classify uploaded documents.\n"
      ]
    }
  ],
  "metadata": {
    "kernelspec": {
      "display_name": ".venv",
      "language": "python",
      "name": "python3"
    },
    "language_info": {
      "codemirror_mode": {
        "name": "ipython",
        "version": 3
      },
      "file_extension": ".py",
      "mimetype": "text/x-python",
      "name": "python",
      "nbconvert_exporter": "python",
      "pygments_lexer": "ipython3",
      "version": "3.11.5"
    }
  },
  "nbformat": 4,
  "nbformat_minor": 2
}
